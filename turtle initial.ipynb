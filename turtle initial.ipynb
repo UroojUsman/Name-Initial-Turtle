{
 "cells": [
  {
   "cell_type": "code",
   "execution_count": 1,
   "metadata": {},
   "outputs": [],
   "source": [
    "import turtle\n",
    "s= turtle.getscreen()\n",
    "t= turtle.Turtle()\n",
    "t.speed(1)\n",
    "t.pensize(4)\n",
    "t.penup()\n",
    "t.goto(-100,100)\n",
    "t.right(90)\n",
    "t.pendown()\n",
    "t.forward(200)\n",
    "t.left(30)\n",
    "t.forward(20)\n",
    "t.left(30)\n",
    "t.forward(20)\n",
    "t.left(30)\n",
    "t.forward(150)\n",
    "t.left(30)\n",
    "t.forward(20)\n",
    "t.left(30)\n",
    "t.forward(20)\n",
    "t.left(30)\n",
    "t.forward(200)"
   ]
  },
  {
   "cell_type": "code",
   "execution_count": null,
   "metadata": {},
   "outputs": [],
   "source": []
  }
 ],
 "metadata": {
  "kernelspec": {
   "display_name": "Python 3",
   "language": "python",
   "name": "python3"
  },
  "language_info": {
   "codemirror_mode": {
    "name": "ipython",
    "version": 3
   },
   "file_extension": ".py",
   "mimetype": "text/x-python",
   "name": "python",
   "nbconvert_exporter": "python",
   "pygments_lexer": "ipython3",
   "version": "3.8.5"
  }
 },
 "nbformat": 4,
 "nbformat_minor": 4
}
